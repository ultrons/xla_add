{
 "cells": [
  {
   "cell_type": "markdown",
   "id": "a901316a",
   "metadata": {},
   "source": [
    "# Introduction\n",
    "\n",
    "This is a simple illustration of op-sharded (SPMD) style model parallel training using PyTorch/XLA.\n",
    "The implementation and core concepts here are from [NVIDIA/Megatron](https://github.com/NVIDIA/Megatron-LM)\n",
    "\n",
    "The word SPMD stands from Single Program Multiple Data. The essence of this method of Model Parallelism is that sharding is done in such a way that each core executes program of identical shape. \n",
    "\n",
    "We illustrate SPMD training using a two layer network example for linear regression.\n",
    "<img src=\"img\\default-network.png\" />\n",
    "The two colors in each of the layers indicate how we are going to shard them.\n",
    "Using ColumnParallelLinear and RowParallelLinear layers from Megatron's mpu module (refactored here to work with PyTorch/XLA)\n",
    "<img src=\"img\\mp-network.png\" />\n",
    "\n",
    "\n",
    "Notice that f & g are conjugate functions. f is an identity function in the forward pass and an all reduce in the backward pass. g is all_reduce in the forward pass and identity in the backward pass.\n",
    "\n",
    "With this setup in effect one replica of model is split into two:\n",
    "  \n",
    "<img src=\"img\\sharded-replica.png\" />\n",
    "\n",
    "\n",
    "For example if you are using 8 total cores (world size), model_parallel world_size will be 2 and you can have 4 data\n",
    "\n",
    "\n",
    "## Setup\n",
    "XRT_TPU_CONFIG\n",
    "Defines where XRT Server will be running"
   ]
  },
  {
   "cell_type": "code",
   "execution_count": 2,
   "id": "89f6b658",
   "metadata": {},
   "outputs": [],
   "source": [
    "import os\n",
    "os.environ['XRT_TPU_CONFIG'] = 'localservice;0;localhost:51011'"
   ]
  },
  {
   "cell_type": "code",
   "execution_count": 3,
   "id": "8aa70226",
   "metadata": {},
   "outputs": [],
   "source": [
    "import torch\n",
    "import torch_xla\n",
    "import torch_xla.core.xla_model as xm\n",
    "import torch_xla.distributed.parallel_loader as pl\n",
    "import torch.nn as nn\n",
    "import torch.optim as optim\n",
    "import numpy as np\n",
    "import torch_xla.debug.metrics as met\n",
    "from dataclasses import dataclass\n",
    "\n",
    "from xla_add.mpu.layers import (\n",
    "    ColumnParallelLinear,\n",
    "    RowParallelLinear,\n",
    ")\n",
    "\n",
    "import xla_add.mpu as mpu\n",
    "import xla_add.mpu.layers as layers"
   ]
  },
  {
   "cell_type": "markdown",
   "id": "8e0e4966",
   "metadata": {},
   "source": [
    "## Create dataset\n",
    "\n",
    "Creating a simple linear dataset."
   ]
  },
  {
   "cell_type": "code",
   "execution_count": 4,
   "id": "02d1b054",
   "metadata": {},
   "outputs": [
    {
     "data": {
      "image/png": "[encoded data removed]",
      "text/plain": [
       "<Figure size 432x288 with 1 Axes>"
      ]
     },
     "metadata": {
      "needs_background": "light"
     },
     "output_type": "display_data"
    }
   ],
   "source": [
    "%matplotlib inline\n",
    "import numpy as np\n",
    "import matplotlib.pyplot as plt\n",
    "\n",
    "num_samples = 2048\n",
    "input_dim = 1\n",
    "xs = np.random.normal(size=(num_samples, input_dim))\n",
    "noise = np.random.normal(scale=0.1, size=(num_samples,input_dim))\n",
    "#ys = (xs**2) * 3 - 1 + noise\n",
    "ys = xs * 3 - 1 + noise\n",
    "\n",
    "\n",
    "plt.scatter(xs, ys)\n",
    "\n",
    "inputs = torch.from_numpy(xs)\n",
    "targets = torch.from_numpy(ys)\n",
    "dataset = torch.utils.data.TensorDataset(inputs, targets)"
   ]
  },
  {
   "cell_type": "markdown",
   "id": "aceecea6",
   "metadata": {},
   "source": [
    "## Define the Network\n",
    "Notice that we use ColumnParallelLinear, and RowParallelLinear for consecutive layers.\n",
    "For more insights on how to select these layers to replace your linear layer, please refer to [NVIDIA/Megatron](https://arxiv.org/pdf/1909.08053.pdf)"
   ]
  },
  {
   "cell_type": "code",
   "execution_count": 8,
   "id": "f7463eab",
   "metadata": {},
   "outputs": [],
   "source": [
    "class sample_network(nn.Module):\n",
    "    def __init__(self):\n",
    "        super(sample_network, self).__init__()\n",
    "        #self.linear1 = nn.Linear(64, 32)\n",
    "        #self.linear2 = nn.Linear(32, 10)\n",
    "        self.linear1 = ColumnParallelLinear(1, 32, gather_output=False, bias=False)\n",
    "        self.linear2 = RowParallelLinear(32, 1, input_is_parallel=True, bias=False)\n",
    "        self.nl = nn.ReLU()\n",
    "        #self.out = nn.Softmax(dim=1)\n",
    "\n",
    "    def forward(self, x):\n",
    "        x = self.linear1(x)\n",
    "        x = self.nl(x)\n",
    "        x = self.linear2(x)\n",
    "        return x"
   ]
  },
  {
   "cell_type": "markdown",
   "id": "f5848061",
   "metadata": {},
   "source": [
    "# Define per core program\n",
    "\n",
    "When running Model parallel training, pay attention to the distributed sampler and gradient all-reduce operation\n",
    "The data parallel rank, world size and groups are not the default i.e. not the same as the default data parallel training. \n",
    "\n",
    "Please see the comments inline for concrete example:"
   ]
  },
  {
   "cell_type": "code",
   "execution_count": 9,
   "id": "79af1c9a",
   "metadata": {},
   "outputs": [],
   "source": [
    "def per_core_action(index):\n",
    "    # MP Setup\n",
    "    tensor_model_parallel_size = 2\n",
    "    # This will initialize the variables for sharded layers to work correctly\n",
    "    mpu.initialize_model_parallel(tensor_model_parallel_size)\n",
    "    \n",
    "    \n",
    "    data_parallel_rank = mpu.initialize.get_data_parallel_rank()\n",
    "    data_parallel_world_size = mpu.initialize.get_data_parallel_world_size()\n",
    "    data_parallel_group = mpu.initialize.get_data_parallel_global_group()\n",
    "\n",
    "    # XLA Device abstraction\n",
    "    device = xm.xla_device()\n",
    "    model = sample_network().to(device)\n",
    "\n",
    "    # Notice the num_replica and rank parameters of the sampler\n",
    "    # Data parallel rank of the two devices which are holding shards of the same replica will be same\n",
    "    distributed_sampler = torch.utils.data.distributed.DistributedSampler(\n",
    "          dataset,\n",
    "          num_replicas=(xm.xrt_world_size() // tensor_model_parallel_size),\n",
    "          rank=data_parallel_rank,\n",
    "          shuffle=True)\n",
    "\n",
    "    dataloader = torch.utils.data.DataLoader(dataset, batch_size=16, sampler=distributed_sampler)\n",
    "\n",
    "    parallel_loader = pl.MpDeviceLoader(dataloader, device)\n",
    "\n",
    "    optimizer = optim.SGD(model.parameters(), lr=0.00001)\n",
    "\n",
    "    num_epochs = 10\n",
    "    for e in range(num_epochs):\n",
    "        for x, y in parallel_loader:\n",
    "            y_hat = model(x)\n",
    "            loss = torch.sum((y - y_hat)**2 / y.numel())\n",
    "            # Optionally print graph of the forward pass to examine sharding\n",
    "            #print(torch_xla._XLAC._get_xla_tensors_text([loss]))\n",
    "            loss.backward()\n",
    "            xm.optimizer_step(optimizer, groups=data_parallel_group)\n",
    "            #print(f\"Debug: Rank:{xm.get_ordinal()} DP Group:{data_parallel_group} loss :{loss}\")\n",
    "        xm.master_print(f\"Epoch:{e}, loss :{loss}\")\n",
    "    \n",
    "        \n",
    "    \n",
    "\n",
    "    #xm.rendezvous('All processes meet here!')\n"
   ]
  },
  {
   "cell_type": "markdown",
   "id": "2fdc3f82",
   "metadata": {},
   "source": [
    "# Execute Training"
   ]
  },
  {
   "cell_type": "code",
   "execution_count": 10,
   "id": "8c75eec7",
   "metadata": {},
   "outputs": [
    {
     "name": "stderr",
     "output_type": "stream",
     "text": [
      "2021-10-21 00:41:10.453247: E tensorflow/core/framework/op_kernel.cc:1623] OpKernel ('op: \"TPURoundRobin\" device_type: \"CPU\"') for unknown op: TPURoundRobin\n",
      "2021-10-21 00:41:10.453308: E tensorflow/core/framework/op_kernel.cc:1623] OpKernel ('op: \"TpuHandleToProtoKey\" device_type: \"CPU\"') for unknown op: TpuHandleToProtoKey\n"
     ]
    },
    {
     "name": "stdout",
     "output_type": "stream",
     "text": [
      "> initializing tensor model parallel with size 2\n",
      "> initializing pipeline model parallel with size 1\n",
      ">>>> _TENSOR_MODEL_PARALLEL_GROUP: [0, 1]\n"
     ]
    },
    {
     "name": "stderr",
     "output_type": "stream",
     "text": [
      "2021-10-21 00:41:34.862263: E tensorflow/core/framework/op_kernel.cc:1623] OpKernel ('op: \"TPURoundRobin\" device_type: \"CPU\"') for unknown op: TPURoundRobin\n",
      "2021-10-21 00:41:34.862331: E tensorflow/core/framework/op_kernel.cc:1623] OpKernel ('op: \"TpuHandleToProtoKey\" device_type: \"CPU\"') for unknown op: TpuHandleToProtoKey\n",
      "2021-10-21 00:41:34.971344: E tensorflow/core/framework/op_kernel.cc:1623] OpKernel ('op: \"TPURoundRobin\" device_type: \"CPU\"') for unknown op: TPURoundRobin\n",
      "2021-10-21 00:41:34.971407: E tensorflow/core/framework/op_kernel.cc:1623] OpKernel ('op: \"TpuHandleToProtoKey\" device_type: \"CPU\"') for unknown op: TpuHandleToProtoKey\n",
      "2021-10-21 00:41:36.561079: E tensorflow/core/framework/op_kernel.cc:1623] OpKernel ('op: \"TPURoundRobin\" device_type: \"CPU\"') for unknown op: TPURoundRobin\n",
      "2021-10-21 00:41:36.561141: E tensorflow/core/framework/op_kernel.cc:1623] OpKernel ('op: \"TpuHandleToProtoKey\" device_type: \"CPU\"') for unknown op: TpuHandleToProtoKey\n",
      "2021-10-21 00:41:36.788745: E tensorflow/core/framework/op_kernel.cc:1623] OpKernel ('op: \"TPURoundRobin\" device_type: \"CPU\"') for unknown op: TPURoundRobin\n",
      "2021-10-21 00:41:36.788803: E tensorflow/core/framework/op_kernel.cc:1623] OpKernel ('op: \"TpuHandleToProtoKey\" device_type: \"CPU\"') for unknown op: TpuHandleToProtoKey\n",
      "2021-10-21 00:41:37.274688: E tensorflow/core/framework/op_kernel.cc:1623] OpKernel ('op: \"TPURoundRobin\" device_type: \"CPU\"') for unknown op: TPURoundRobin\n",
      "2021-10-21 00:41:37.274750: E tensorflow/core/framework/op_kernel.cc:1623] OpKernel ('op: \"TpuHandleToProtoKey\" device_type: \"CPU\"') for unknown op: TpuHandleToProtoKey\n",
      "2021-10-21 00:41:37.657264: E tensorflow/core/framework/op_kernel.cc:1623] OpKernel ('op: \"TPURoundRobin\" device_type: \"CPU\"') for unknown op: TPURoundRobin\n",
      "2021-10-21 00:41:37.657325: E tensorflow/core/framework/op_kernel.cc:1623] OpKernel ('op: \"TpuHandleToProtoKey\" device_type: \"CPU\"') for unknown op: TpuHandleToProtoKey\n",
      "2021-10-21 00:41:40.150849: E tensorflow/core/framework/op_kernel.cc:1623] OpKernel ('op: \"TPURoundRobin\" device_type: \"CPU\"') for unknown op: TPURoundRobin\n",
      "2021-10-21 00:41:40.150904: E tensorflow/core/framework/op_kernel.cc:1623] OpKernel ('op: \"TpuHandleToProtoKey\" device_type: \"CPU\"') for unknown op: TpuHandleToProtoKey\n"
     ]
    },
    {
     "name": "stdout",
     "output_type": "stream",
     "text": [
      "Epoch:0, loss :9.13158130645752\n",
      "Epoch:1, loss :8.9047212600708\n",
      "Epoch:2, loss :8.521275520324707\n",
      "Epoch:3, loss :7.9740891456604\n",
      "Epoch:4, loss :7.249765872955322\n",
      "Epoch:5, loss :6.334079742431641\n",
      "Epoch:6, loss :5.220804214477539\n",
      "Epoch:7, loss :3.940500497817993\n",
      "Epoch:8, loss :2.6096081733703613\n",
      "Epoch:9, loss :1.4902187585830688"
     ]
    },
    {
     "name": "stderr",
     "output_type": "stream",
     "text": [
      "2021-10-21 00:41:10.453247: E tensorflow/core/framework/op_kernel.cc:1623] OpKernel ('op: \"TPURoundRobin\" device_type: \"CPU\"') for unknown op: TPURoundRobin\n",
      "2021-10-21 00:41:10.453308: E tensorflow/core/framework/op_kernel.cc:1623] OpKernel ('op: \"TpuHandleToProtoKey\" device_type: \"CPU\"') for unknown op: TpuHandleToProtoKey\n"
     ]
    },
    {
     "name": "stdout",
     "output_type": "stream",
     "text": [
      "\n"
     ]
    }
   ],
   "source": [
    "%matplotlib inline\n",
    "import torch_xla.distributed.xla_multiprocessing as xmp\n",
    "xmp.spawn(per_core_action, nprocs=8, start_method='fork')"
   ]
  },
  {
   "cell_type": "code",
   "execution_count": null,
   "id": "3221c725",
   "metadata": {},
   "outputs": [],
   "source": []
  }
 ],
 "metadata": {
  "kernelspec": {
   "display_name": "Python 3 (ipykernel)",
   "language": "python",
   "name": "python3"
  },
  "language_info": {
   "codemirror_mode": {
    "name": "ipython",
    "version": 3
   },
   "file_extension": ".py",
   "mimetype": "text/x-python",
   "name": "python",
   "nbconvert_exporter": "python",
   "pygments_lexer": "ipython3",
   "version": "3.8.10"
  }
 },
 "nbformat": 4,
 "nbformat_minor": 5
}
